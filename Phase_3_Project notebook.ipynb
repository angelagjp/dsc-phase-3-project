{
 "cells": [
  {
   "cell_type": "markdown",
   "metadata": {},
   "source": [
    "# Predictions for At Fault Drivers- Phase 3 Project \n",
    "Angela Joseph-Pauline"
   ]
  },
  {
   "cell_type": "markdown",
   "metadata": {},
   "source": [
    "## Overview\n",
    "\n",
    "Using Logistic Modeling and DecisionTreeRegression to predict the possibility of a driver being at fault for car crashes i the Chicargo, IL area. The Data was provided by the Chicago, IL police department."
   ]
  },
  {
   "cell_type": "code",
   "execution_count": 2,
   "metadata": {
    "scrolled": true
   },
   "outputs": [],
   "source": [
    "#imports\n",
    "import pandas as pd\n",
    "import numpy as np\n",
    "import seaborn as sns\n",
    "import matplotlib.pyplot as plt\n",
    "\n",
    "#this allows plotsto appear directly in the notebook\n",
    "%matplotlib inline\n",
    "\n",
    "from sklearn.model_selection import train_test_split, cross_val_score\n",
    "from sklearn.preprocessing import OneHotEncoder, StandardScaler\n",
    "from sklearn.linear_model import LogisticRegression\n",
    "from sklearn.dummy import DummyClassifier\n",
    "from sklearn.ensemble import RandomForestClassifier\n",
    "from sklearn.datasets import load_iris\n",
    "from sklearn import svm, datasets\n",
    "from sklearn.tree import DecisionTreeClassifier\n",
    "from sklearn.metrics import plot_roc_curve, roc_curve, auc\n",
    "from sklearn.base import BaseEstimator"
   ]
  },
  {
   "cell_type": "markdown",
   "metadata": {},
   "source": [
    "### import DataFrame and clean data"
   ]
  },
  {
   "cell_type": "code",
   "execution_count": 3,
   "metadata": {},
   "outputs": [
    {
     "data": {
      "text/html": [
       "<div>\n",
       "<style scoped>\n",
       "    .dataframe tbody tr th:only-of-type {\n",
       "        vertical-align: middle;\n",
       "    }\n",
       "\n",
       "    .dataframe tbody tr th {\n",
       "        vertical-align: top;\n",
       "    }\n",
       "\n",
       "    .dataframe thead th {\n",
       "        text-align: right;\n",
       "    }\n",
       "</style>\n",
       "<table border=\"1\" class=\"dataframe\">\n",
       "  <thead>\n",
       "    <tr style=\"text-align: right;\">\n",
       "      <th></th>\n",
       "      <th>CRASH_RECORD_ID</th>\n",
       "      <th>RD_NO</th>\n",
       "      <th>CRASH_DATE_EST_I</th>\n",
       "      <th>CRASH_DATE</th>\n",
       "      <th>POSTED_SPEED_LIMIT</th>\n",
       "      <th>TRAFFIC_CONTROL_DEVICE</th>\n",
       "      <th>DEVICE_CONDITION</th>\n",
       "      <th>WEATHER_CONDITION</th>\n",
       "      <th>LIGHTING_CONDITION</th>\n",
       "      <th>FIRST_CRASH_TYPE</th>\n",
       "      <th>...</th>\n",
       "      <th>INJURIES_NON_INCAPACITATING</th>\n",
       "      <th>INJURIES_REPORTED_NOT_EVIDENT</th>\n",
       "      <th>INJURIES_NO_INDICATION</th>\n",
       "      <th>INJURIES_UNKNOWN</th>\n",
       "      <th>CRASH_HOUR</th>\n",
       "      <th>CRASH_DAY_OF_WEEK</th>\n",
       "      <th>CRASH_MONTH</th>\n",
       "      <th>LATITUDE</th>\n",
       "      <th>LONGITUDE</th>\n",
       "      <th>LOCATION</th>\n",
       "    </tr>\n",
       "  </thead>\n",
       "  <tbody>\n",
       "    <tr>\n",
       "      <th>0</th>\n",
       "      <td>4fd0a3e0897b3335b94cd8d5b2d2b350eb691add56c62d...</td>\n",
       "      <td>JC343143</td>\n",
       "      <td>NaN</td>\n",
       "      <td>07/10/2019 05:56:00 PM</td>\n",
       "      <td>35</td>\n",
       "      <td>NO CONTROLS</td>\n",
       "      <td>NO CONTROLS</td>\n",
       "      <td>CLEAR</td>\n",
       "      <td>DAYLIGHT</td>\n",
       "      <td>TURNING</td>\n",
       "      <td>...</td>\n",
       "      <td>0.0</td>\n",
       "      <td>0.0</td>\n",
       "      <td>3.0</td>\n",
       "      <td>0.0</td>\n",
       "      <td>17</td>\n",
       "      <td>4</td>\n",
       "      <td>7</td>\n",
       "      <td>41.919664</td>\n",
       "      <td>-87.773288</td>\n",
       "      <td>POINT (-87.773287883007 41.919663832993)</td>\n",
       "    </tr>\n",
       "    <tr>\n",
       "      <th>1</th>\n",
       "      <td>009e9e67203442370272e1a13d6ee51a4155dac65e583d...</td>\n",
       "      <td>JA329216</td>\n",
       "      <td>NaN</td>\n",
       "      <td>06/30/2017 04:00:00 PM</td>\n",
       "      <td>35</td>\n",
       "      <td>STOP SIGN/FLASHER</td>\n",
       "      <td>FUNCTIONING PROPERLY</td>\n",
       "      <td>CLEAR</td>\n",
       "      <td>DAYLIGHT</td>\n",
       "      <td>TURNING</td>\n",
       "      <td>...</td>\n",
       "      <td>0.0</td>\n",
       "      <td>0.0</td>\n",
       "      <td>3.0</td>\n",
       "      <td>0.0</td>\n",
       "      <td>16</td>\n",
       "      <td>6</td>\n",
       "      <td>6</td>\n",
       "      <td>41.741804</td>\n",
       "      <td>-87.740954</td>\n",
       "      <td>POINT (-87.740953581987 41.741803598989)</td>\n",
       "    </tr>\n",
       "    <tr>\n",
       "      <th>2</th>\n",
       "      <td>ee9283eff3a55ac50ee58f3d9528ce1d689b1c4180b4c4...</td>\n",
       "      <td>JD292400</td>\n",
       "      <td>NaN</td>\n",
       "      <td>07/10/2020 10:25:00 AM</td>\n",
       "      <td>30</td>\n",
       "      <td>TRAFFIC SIGNAL</td>\n",
       "      <td>FUNCTIONING PROPERLY</td>\n",
       "      <td>CLEAR</td>\n",
       "      <td>DAYLIGHT</td>\n",
       "      <td>REAR END</td>\n",
       "      <td>...</td>\n",
       "      <td>0.0</td>\n",
       "      <td>0.0</td>\n",
       "      <td>3.0</td>\n",
       "      <td>0.0</td>\n",
       "      <td>10</td>\n",
       "      <td>6</td>\n",
       "      <td>7</td>\n",
       "      <td>41.773456</td>\n",
       "      <td>-87.585022</td>\n",
       "      <td>POINT (-87.585022352022 41.773455972008)</td>\n",
       "    </tr>\n",
       "    <tr>\n",
       "      <th>3</th>\n",
       "      <td>f8960f698e870ebdc60b521b2a141a5395556bc3704191...</td>\n",
       "      <td>JD293602</td>\n",
       "      <td>NaN</td>\n",
       "      <td>07/11/2020 01:00:00 AM</td>\n",
       "      <td>30</td>\n",
       "      <td>NO CONTROLS</td>\n",
       "      <td>NO CONTROLS</td>\n",
       "      <td>CLEAR</td>\n",
       "      <td>DARKNESS</td>\n",
       "      <td>PARKED MOTOR VEHICLE</td>\n",
       "      <td>...</td>\n",
       "      <td>0.0</td>\n",
       "      <td>0.0</td>\n",
       "      <td>3.0</td>\n",
       "      <td>0.0</td>\n",
       "      <td>1</td>\n",
       "      <td>7</td>\n",
       "      <td>7</td>\n",
       "      <td>41.802119</td>\n",
       "      <td>-87.622115</td>\n",
       "      <td>POINT (-87.622114914961 41.802118543011)</td>\n",
       "    </tr>\n",
       "    <tr>\n",
       "      <th>4</th>\n",
       "      <td>8eaa2678d1a127804ee9b8c35ddf7d63d913c14eda61d6...</td>\n",
       "      <td>JD290451</td>\n",
       "      <td>NaN</td>\n",
       "      <td>07/08/2020 02:00:00 PM</td>\n",
       "      <td>20</td>\n",
       "      <td>NO CONTROLS</td>\n",
       "      <td>NO CONTROLS</td>\n",
       "      <td>CLEAR</td>\n",
       "      <td>DAYLIGHT</td>\n",
       "      <td>PARKED MOTOR VEHICLE</td>\n",
       "      <td>...</td>\n",
       "      <td>0.0</td>\n",
       "      <td>0.0</td>\n",
       "      <td>1.0</td>\n",
       "      <td>0.0</td>\n",
       "      <td>14</td>\n",
       "      <td>4</td>\n",
       "      <td>7</td>\n",
       "      <td>NaN</td>\n",
       "      <td>NaN</td>\n",
       "      <td>NaN</td>\n",
       "    </tr>\n",
       "  </tbody>\n",
       "</table>\n",
       "<p>5 rows × 49 columns</p>\n",
       "</div>"
      ],
      "text/plain": [
       "                                     CRASH_RECORD_ID     RD_NO  \\\n",
       "0  4fd0a3e0897b3335b94cd8d5b2d2b350eb691add56c62d...  JC343143   \n",
       "1  009e9e67203442370272e1a13d6ee51a4155dac65e583d...  JA329216   \n",
       "2  ee9283eff3a55ac50ee58f3d9528ce1d689b1c4180b4c4...  JD292400   \n",
       "3  f8960f698e870ebdc60b521b2a141a5395556bc3704191...  JD293602   \n",
       "4  8eaa2678d1a127804ee9b8c35ddf7d63d913c14eda61d6...  JD290451   \n",
       "\n",
       "  CRASH_DATE_EST_I              CRASH_DATE  POSTED_SPEED_LIMIT  \\\n",
       "0              NaN  07/10/2019 05:56:00 PM                  35   \n",
       "1              NaN  06/30/2017 04:00:00 PM                  35   \n",
       "2              NaN  07/10/2020 10:25:00 AM                  30   \n",
       "3              NaN  07/11/2020 01:00:00 AM                  30   \n",
       "4              NaN  07/08/2020 02:00:00 PM                  20   \n",
       "\n",
       "  TRAFFIC_CONTROL_DEVICE      DEVICE_CONDITION WEATHER_CONDITION  \\\n",
       "0            NO CONTROLS           NO CONTROLS             CLEAR   \n",
       "1      STOP SIGN/FLASHER  FUNCTIONING PROPERLY             CLEAR   \n",
       "2         TRAFFIC SIGNAL  FUNCTIONING PROPERLY             CLEAR   \n",
       "3            NO CONTROLS           NO CONTROLS             CLEAR   \n",
       "4            NO CONTROLS           NO CONTROLS             CLEAR   \n",
       "\n",
       "  LIGHTING_CONDITION      FIRST_CRASH_TYPE  ... INJURIES_NON_INCAPACITATING  \\\n",
       "0           DAYLIGHT               TURNING  ...                         0.0   \n",
       "1           DAYLIGHT               TURNING  ...                         0.0   \n",
       "2           DAYLIGHT              REAR END  ...                         0.0   \n",
       "3           DARKNESS  PARKED MOTOR VEHICLE  ...                         0.0   \n",
       "4           DAYLIGHT  PARKED MOTOR VEHICLE  ...                         0.0   \n",
       "\n",
       "   INJURIES_REPORTED_NOT_EVIDENT INJURIES_NO_INDICATION INJURIES_UNKNOWN  \\\n",
       "0                            0.0                    3.0              0.0   \n",
       "1                            0.0                    3.0              0.0   \n",
       "2                            0.0                    3.0              0.0   \n",
       "3                            0.0                    3.0              0.0   \n",
       "4                            0.0                    1.0              0.0   \n",
       "\n",
       "  CRASH_HOUR CRASH_DAY_OF_WEEK CRASH_MONTH   LATITUDE  LONGITUDE  \\\n",
       "0         17                 4           7  41.919664 -87.773288   \n",
       "1         16                 6           6  41.741804 -87.740954   \n",
       "2         10                 6           7  41.773456 -87.585022   \n",
       "3          1                 7           7  41.802119 -87.622115   \n",
       "4         14                 4           7        NaN        NaN   \n",
       "\n",
       "                                   LOCATION  \n",
       "0  POINT (-87.773287883007 41.919663832993)  \n",
       "1  POINT (-87.740953581987 41.741803598989)  \n",
       "2  POINT (-87.585022352022 41.773455972008)  \n",
       "3  POINT (-87.622114914961 41.802118543011)  \n",
       "4                                       NaN  \n",
       "\n",
       "[5 rows x 49 columns]"
      ]
     },
     "execution_count": 3,
     "metadata": {},
     "output_type": "execute_result"
    }
   ],
   "source": [
    "df = pd.read_csv(\"Traffic_Crashes_-_Crashes.csv\")\n",
    "df.head()"
   ]
  },
  {
   "cell_type": "code",
   "execution_count": 4,
   "metadata": {
    "scrolled": true
   },
   "outputs": [
    {
     "name": "stdout",
     "output_type": "stream",
     "text": [
      "<class 'pandas.core.frame.DataFrame'>\n",
      "RangeIndex: 496491 entries, 0 to 496490\n",
      "Data columns (total 49 columns):\n",
      " #   Column                         Non-Null Count   Dtype  \n",
      "---  ------                         --------------   -----  \n",
      " 0   CRASH_RECORD_ID                496491 non-null  object \n",
      " 1   RD_NO                          492845 non-null  object \n",
      " 2   CRASH_DATE_EST_I               37328 non-null   object \n",
      " 3   CRASH_DATE                     496491 non-null  object \n",
      " 4   POSTED_SPEED_LIMIT             496491 non-null  int64  \n",
      " 5   TRAFFIC_CONTROL_DEVICE         496491 non-null  object \n",
      " 6   DEVICE_CONDITION               496491 non-null  object \n",
      " 7   WEATHER_CONDITION              496491 non-null  object \n",
      " 8   LIGHTING_CONDITION             496491 non-null  object \n",
      " 9   FIRST_CRASH_TYPE               496491 non-null  object \n",
      " 10  TRAFFICWAY_TYPE                496491 non-null  object \n",
      " 11  LANE_CNT                       198965 non-null  float64\n",
      " 12  ALIGNMENT                      496491 non-null  object \n",
      " 13  ROADWAY_SURFACE_COND           496491 non-null  object \n",
      " 14  ROAD_DEFECT                    496491 non-null  object \n",
      " 15  REPORT_TYPE                    484335 non-null  object \n",
      " 16  CRASH_TYPE                     496491 non-null  object \n",
      " 17  INTERSECTION_RELATED_I         112056 non-null  object \n",
      " 18  NOT_RIGHT_OF_WAY_I             23442 non-null   object \n",
      " 19  HIT_AND_RUN_I                  146972 non-null  object \n",
      " 20  DAMAGE                         496491 non-null  object \n",
      " 21  DATE_POLICE_NOTIFIED           496491 non-null  object \n",
      " 22  PRIM_CONTRIBUTORY_CAUSE        496491 non-null  object \n",
      " 23  SEC_CONTRIBUTORY_CAUSE         496491 non-null  object \n",
      " 24  STREET_NO                      496491 non-null  int64  \n",
      " 25  STREET_DIRECTION               496488 non-null  object \n",
      " 26  STREET_NAME                    496490 non-null  object \n",
      " 27  BEAT_OF_OCCURRENCE             496486 non-null  float64\n",
      " 28  PHOTOS_TAKEN_I                 6224 non-null    object \n",
      " 29  STATEMENTS_TAKEN_I             10034 non-null   object \n",
      " 30  DOORING_I                      1576 non-null    object \n",
      " 31  WORK_ZONE_I                    3179 non-null    object \n",
      " 32  WORK_ZONE_TYPE                 2507 non-null    object \n",
      " 33  WORKERS_PRESENT_I              766 non-null     object \n",
      " 34  NUM_UNITS                      496491 non-null  int64  \n",
      " 35  MOST_SEVERE_INJURY             495476 non-null  object \n",
      " 36  INJURIES_TOTAL                 495487 non-null  float64\n",
      " 37  INJURIES_FATAL                 495487 non-null  float64\n",
      " 38  INJURIES_INCAPACITATING        495487 non-null  float64\n",
      " 39  INJURIES_NON_INCAPACITATING    495487 non-null  float64\n",
      " 40  INJURIES_REPORTED_NOT_EVIDENT  495487 non-null  float64\n",
      " 41  INJURIES_NO_INDICATION         495487 non-null  float64\n",
      " 42  INJURIES_UNKNOWN               495487 non-null  float64\n",
      " 43  CRASH_HOUR                     496491 non-null  int64  \n",
      " 44  CRASH_DAY_OF_WEEK              496491 non-null  int64  \n",
      " 45  CRASH_MONTH                    496491 non-null  int64  \n",
      " 46  LATITUDE                       493721 non-null  float64\n",
      " 47  LONGITUDE                      493721 non-null  float64\n",
      " 48  LOCATION                       493721 non-null  object \n",
      "dtypes: float64(11), int64(6), object(32)\n",
      "memory usage: 185.6+ MB\n"
     ]
    }
   ],
   "source": [
    "#examine data\n",
    "df.info()"
   ]
  },
  {
   "cell_type": "code",
   "execution_count": 5,
   "metadata": {
    "scrolled": false
   },
   "outputs": [
    {
     "data": {
      "text/html": [
       "<div>\n",
       "<style scoped>\n",
       "    .dataframe tbody tr th:only-of-type {\n",
       "        vertical-align: middle;\n",
       "    }\n",
       "\n",
       "    .dataframe tbody tr th {\n",
       "        vertical-align: top;\n",
       "    }\n",
       "\n",
       "    .dataframe thead th {\n",
       "        text-align: right;\n",
       "    }\n",
       "</style>\n",
       "<table border=\"1\" class=\"dataframe\">\n",
       "  <thead>\n",
       "    <tr style=\"text-align: right;\">\n",
       "      <th></th>\n",
       "      <th>crash_record_id</th>\n",
       "      <th>rd_no</th>\n",
       "      <th>crash_date_est_i</th>\n",
       "      <th>crash_date</th>\n",
       "      <th>posted_speed_limit</th>\n",
       "      <th>traffic_control_device</th>\n",
       "      <th>device_condition</th>\n",
       "      <th>weather_condition</th>\n",
       "      <th>lighting_condition</th>\n",
       "      <th>first_crash_type</th>\n",
       "      <th>...</th>\n",
       "      <th>injuries_non_incapacitating</th>\n",
       "      <th>injuries_reported_not_evident</th>\n",
       "      <th>injuries_no_indication</th>\n",
       "      <th>injuries_unknown</th>\n",
       "      <th>crash_hour</th>\n",
       "      <th>crash_day_of_week</th>\n",
       "      <th>crash_month</th>\n",
       "      <th>latitude</th>\n",
       "      <th>longitude</th>\n",
       "      <th>location</th>\n",
       "    </tr>\n",
       "  </thead>\n",
       "  <tbody>\n",
       "    <tr>\n",
       "      <th>0</th>\n",
       "      <td>4fd0a3e0897b3335b94cd8d5b2d2b350eb691add56c62d...</td>\n",
       "      <td>JC343143</td>\n",
       "      <td>NaN</td>\n",
       "      <td>07/10/2019 05:56:00 PM</td>\n",
       "      <td>35</td>\n",
       "      <td>NO CONTROLS</td>\n",
       "      <td>NO CONTROLS</td>\n",
       "      <td>CLEAR</td>\n",
       "      <td>DAYLIGHT</td>\n",
       "      <td>TURNING</td>\n",
       "      <td>...</td>\n",
       "      <td>0.0</td>\n",
       "      <td>0.0</td>\n",
       "      <td>3.0</td>\n",
       "      <td>0.0</td>\n",
       "      <td>17</td>\n",
       "      <td>4</td>\n",
       "      <td>7</td>\n",
       "      <td>41.919664</td>\n",
       "      <td>-87.773288</td>\n",
       "      <td>POINT (-87.773287883007 41.919663832993)</td>\n",
       "    </tr>\n",
       "    <tr>\n",
       "      <th>1</th>\n",
       "      <td>009e9e67203442370272e1a13d6ee51a4155dac65e583d...</td>\n",
       "      <td>JA329216</td>\n",
       "      <td>NaN</td>\n",
       "      <td>06/30/2017 04:00:00 PM</td>\n",
       "      <td>35</td>\n",
       "      <td>STOP SIGN/FLASHER</td>\n",
       "      <td>FUNCTIONING PROPERLY</td>\n",
       "      <td>CLEAR</td>\n",
       "      <td>DAYLIGHT</td>\n",
       "      <td>TURNING</td>\n",
       "      <td>...</td>\n",
       "      <td>0.0</td>\n",
       "      <td>0.0</td>\n",
       "      <td>3.0</td>\n",
       "      <td>0.0</td>\n",
       "      <td>16</td>\n",
       "      <td>6</td>\n",
       "      <td>6</td>\n",
       "      <td>41.741804</td>\n",
       "      <td>-87.740954</td>\n",
       "      <td>POINT (-87.740953581987 41.741803598989)</td>\n",
       "    </tr>\n",
       "    <tr>\n",
       "      <th>2</th>\n",
       "      <td>ee9283eff3a55ac50ee58f3d9528ce1d689b1c4180b4c4...</td>\n",
       "      <td>JD292400</td>\n",
       "      <td>NaN</td>\n",
       "      <td>07/10/2020 10:25:00 AM</td>\n",
       "      <td>30</td>\n",
       "      <td>TRAFFIC SIGNAL</td>\n",
       "      <td>FUNCTIONING PROPERLY</td>\n",
       "      <td>CLEAR</td>\n",
       "      <td>DAYLIGHT</td>\n",
       "      <td>REAR END</td>\n",
       "      <td>...</td>\n",
       "      <td>0.0</td>\n",
       "      <td>0.0</td>\n",
       "      <td>3.0</td>\n",
       "      <td>0.0</td>\n",
       "      <td>10</td>\n",
       "      <td>6</td>\n",
       "      <td>7</td>\n",
       "      <td>41.773456</td>\n",
       "      <td>-87.585022</td>\n",
       "      <td>POINT (-87.585022352022 41.773455972008)</td>\n",
       "    </tr>\n",
       "    <tr>\n",
       "      <th>3</th>\n",
       "      <td>f8960f698e870ebdc60b521b2a141a5395556bc3704191...</td>\n",
       "      <td>JD293602</td>\n",
       "      <td>NaN</td>\n",
       "      <td>07/11/2020 01:00:00 AM</td>\n",
       "      <td>30</td>\n",
       "      <td>NO CONTROLS</td>\n",
       "      <td>NO CONTROLS</td>\n",
       "      <td>CLEAR</td>\n",
       "      <td>DARKNESS</td>\n",
       "      <td>PARKED MOTOR VEHICLE</td>\n",
       "      <td>...</td>\n",
       "      <td>0.0</td>\n",
       "      <td>0.0</td>\n",
       "      <td>3.0</td>\n",
       "      <td>0.0</td>\n",
       "      <td>1</td>\n",
       "      <td>7</td>\n",
       "      <td>7</td>\n",
       "      <td>41.802119</td>\n",
       "      <td>-87.622115</td>\n",
       "      <td>POINT (-87.622114914961 41.802118543011)</td>\n",
       "    </tr>\n",
       "    <tr>\n",
       "      <th>4</th>\n",
       "      <td>8eaa2678d1a127804ee9b8c35ddf7d63d913c14eda61d6...</td>\n",
       "      <td>JD290451</td>\n",
       "      <td>NaN</td>\n",
       "      <td>07/08/2020 02:00:00 PM</td>\n",
       "      <td>20</td>\n",
       "      <td>NO CONTROLS</td>\n",
       "      <td>NO CONTROLS</td>\n",
       "      <td>CLEAR</td>\n",
       "      <td>DAYLIGHT</td>\n",
       "      <td>PARKED MOTOR VEHICLE</td>\n",
       "      <td>...</td>\n",
       "      <td>0.0</td>\n",
       "      <td>0.0</td>\n",
       "      <td>1.0</td>\n",
       "      <td>0.0</td>\n",
       "      <td>14</td>\n",
       "      <td>4</td>\n",
       "      <td>7</td>\n",
       "      <td>NaN</td>\n",
       "      <td>NaN</td>\n",
       "      <td>NaN</td>\n",
       "    </tr>\n",
       "  </tbody>\n",
       "</table>\n",
       "<p>5 rows × 49 columns</p>\n",
       "</div>"
      ],
      "text/plain": [
       "                                     crash_record_id     rd_no  \\\n",
       "0  4fd0a3e0897b3335b94cd8d5b2d2b350eb691add56c62d...  JC343143   \n",
       "1  009e9e67203442370272e1a13d6ee51a4155dac65e583d...  JA329216   \n",
       "2  ee9283eff3a55ac50ee58f3d9528ce1d689b1c4180b4c4...  JD292400   \n",
       "3  f8960f698e870ebdc60b521b2a141a5395556bc3704191...  JD293602   \n",
       "4  8eaa2678d1a127804ee9b8c35ddf7d63d913c14eda61d6...  JD290451   \n",
       "\n",
       "  crash_date_est_i              crash_date  posted_speed_limit  \\\n",
       "0              NaN  07/10/2019 05:56:00 PM                  35   \n",
       "1              NaN  06/30/2017 04:00:00 PM                  35   \n",
       "2              NaN  07/10/2020 10:25:00 AM                  30   \n",
       "3              NaN  07/11/2020 01:00:00 AM                  30   \n",
       "4              NaN  07/08/2020 02:00:00 PM                  20   \n",
       "\n",
       "  traffic_control_device      device_condition weather_condition  \\\n",
       "0            NO CONTROLS           NO CONTROLS             CLEAR   \n",
       "1      STOP SIGN/FLASHER  FUNCTIONING PROPERLY             CLEAR   \n",
       "2         TRAFFIC SIGNAL  FUNCTIONING PROPERLY             CLEAR   \n",
       "3            NO CONTROLS           NO CONTROLS             CLEAR   \n",
       "4            NO CONTROLS           NO CONTROLS             CLEAR   \n",
       "\n",
       "  lighting_condition      first_crash_type  ... injuries_non_incapacitating  \\\n",
       "0           DAYLIGHT               TURNING  ...                         0.0   \n",
       "1           DAYLIGHT               TURNING  ...                         0.0   \n",
       "2           DAYLIGHT              REAR END  ...                         0.0   \n",
       "3           DARKNESS  PARKED MOTOR VEHICLE  ...                         0.0   \n",
       "4           DAYLIGHT  PARKED MOTOR VEHICLE  ...                         0.0   \n",
       "\n",
       "   injuries_reported_not_evident injuries_no_indication injuries_unknown  \\\n",
       "0                            0.0                    3.0              0.0   \n",
       "1                            0.0                    3.0              0.0   \n",
       "2                            0.0                    3.0              0.0   \n",
       "3                            0.0                    3.0              0.0   \n",
       "4                            0.0                    1.0              0.0   \n",
       "\n",
       "  crash_hour crash_day_of_week crash_month   latitude  longitude  \\\n",
       "0         17                 4           7  41.919664 -87.773288   \n",
       "1         16                 6           6  41.741804 -87.740954   \n",
       "2         10                 6           7  41.773456 -87.585022   \n",
       "3          1                 7           7  41.802119 -87.622115   \n",
       "4         14                 4           7        NaN        NaN   \n",
       "\n",
       "                                   location  \n",
       "0  POINT (-87.773287883007 41.919663832993)  \n",
       "1  POINT (-87.740953581987 41.741803598989)  \n",
       "2  POINT (-87.585022352022 41.773455972008)  \n",
       "3  POINT (-87.622114914961 41.802118543011)  \n",
       "4                                       NaN  \n",
       "\n",
       "[5 rows x 49 columns]"
      ]
     },
     "execution_count": 5,
     "metadata": {},
     "output_type": "execute_result"
    }
   ],
   "source": [
    "#change all column names to lower case\n",
    "df.columns = [x.lower() for x in df.columns]\n",
    "df.head()"
   ]
  },
  {
   "cell_type": "code",
   "execution_count": 6,
   "metadata": {
    "scrolled": false
   },
   "outputs": [
    {
     "name": "stdout",
     "output_type": "stream",
     "text": [
      "crash_record_id                       0\n",
      "rd_no                              3646\n",
      "crash_date_est_i                 459163\n",
      "crash_date                            0\n",
      "posted_speed_limit                    0\n",
      "traffic_control_device                0\n",
      "device_condition                      0\n",
      "weather_condition                     0\n",
      "lighting_condition                    0\n",
      "first_crash_type                      0\n",
      "trafficway_type                       0\n",
      "lane_cnt                         297526\n",
      "alignment                             0\n",
      "roadway_surface_cond                  0\n",
      "road_defect                           0\n",
      "report_type                       12156\n",
      "crash_type                            0\n",
      "intersection_related_i           384435\n",
      "not_right_of_way_i               473049\n",
      "hit_and_run_i                    349519\n",
      "damage                                0\n",
      "date_police_notified                  0\n",
      "prim_contributory_cause               0\n",
      "sec_contributory_cause                0\n",
      "street_no                             0\n",
      "street_direction                      3\n",
      "street_name                           1\n",
      "beat_of_occurrence                    5\n",
      "photos_taken_i                   490267\n",
      "statements_taken_i               486457\n",
      "dooring_i                        494915\n",
      "work_zone_i                      493312\n",
      "work_zone_type                   493984\n",
      "workers_present_i                495725\n",
      "num_units                             0\n",
      "most_severe_injury                 1015\n",
      "injuries_total                     1004\n",
      "injuries_fatal                     1004\n",
      "injuries_incapacitating            1004\n",
      "injuries_non_incapacitating        1004\n",
      "injuries_reported_not_evident      1004\n",
      "injuries_no_indication             1004\n",
      "injuries_unknown                   1004\n",
      "crash_hour                            0\n",
      "crash_day_of_week                     0\n",
      "crash_month                           0\n",
      "latitude                           2770\n",
      "longitude                          2770\n",
      "location                           2770\n",
      "dtype: int64\n"
     ]
    }
   ],
   "source": [
    "#Check for null values\n",
    "print(df.isnull().sum())"
   ]
  },
  {
   "cell_type": "code",
   "execution_count": 7,
   "metadata": {},
   "outputs": [],
   "source": [
    "#Drop null values\n",
    "df=df.dropna(axis=1)"
   ]
  },
  {
   "cell_type": "code",
   "execution_count": 8,
   "metadata": {},
   "outputs": [
    {
     "name": "stdout",
     "output_type": "stream",
     "text": [
      "<class 'pandas.core.frame.DataFrame'>\n",
      "RangeIndex: 496491 entries, 0 to 496490\n",
      "Data columns (total 22 columns):\n",
      " #   Column                   Non-Null Count   Dtype \n",
      "---  ------                   --------------   ----- \n",
      " 0   crash_record_id          496491 non-null  object\n",
      " 1   crash_date               496491 non-null  object\n",
      " 2   posted_speed_limit       496491 non-null  int64 \n",
      " 3   traffic_control_device   496491 non-null  object\n",
      " 4   device_condition         496491 non-null  object\n",
      " 5   weather_condition        496491 non-null  object\n",
      " 6   lighting_condition       496491 non-null  object\n",
      " 7   first_crash_type         496491 non-null  object\n",
      " 8   trafficway_type          496491 non-null  object\n",
      " 9   alignment                496491 non-null  object\n",
      " 10  roadway_surface_cond     496491 non-null  object\n",
      " 11  road_defect              496491 non-null  object\n",
      " 12  crash_type               496491 non-null  object\n",
      " 13  damage                   496491 non-null  object\n",
      " 14  date_police_notified     496491 non-null  object\n",
      " 15  prim_contributory_cause  496491 non-null  object\n",
      " 16  sec_contributory_cause   496491 non-null  object\n",
      " 17  street_no                496491 non-null  int64 \n",
      " 18  num_units                496491 non-null  int64 \n",
      " 19  crash_hour               496491 non-null  int64 \n",
      " 20  crash_day_of_week        496491 non-null  int64 \n",
      " 21  crash_month              496491 non-null  int64 \n",
      "dtypes: int64(6), object(16)\n",
      "memory usage: 83.3+ MB\n"
     ]
    }
   ],
   "source": [
    "df.info()"
   ]
  },
  {
   "cell_type": "code",
   "execution_count": 9,
   "metadata": {
    "scrolled": false
   },
   "outputs": [
    {
     "name": "stdout",
     "output_type": "stream",
     "text": [
      "crash_record_id            0\n",
      "crash_date                 0\n",
      "posted_speed_limit         0\n",
      "traffic_control_device     0\n",
      "device_condition           0\n",
      "weather_condition          0\n",
      "lighting_condition         0\n",
      "first_crash_type           0\n",
      "trafficway_type            0\n",
      "alignment                  0\n",
      "roadway_surface_cond       0\n",
      "road_defect                0\n",
      "crash_type                 0\n",
      "damage                     0\n",
      "date_police_notified       0\n",
      "prim_contributory_cause    0\n",
      "sec_contributory_cause     0\n",
      "street_no                  0\n",
      "num_units                  0\n",
      "crash_hour                 0\n",
      "crash_day_of_week          0\n",
      "crash_month                0\n",
      "dtype: int64\n"
     ]
    }
   ],
   "source": [
    "#Confirm nulls have been dropped\n",
    "print(df.isnull().sum())"
   ]
  },
  {
   "cell_type": "markdown",
   "metadata": {},
   "source": [
    "### Assign Driver responsibility"
   ]
  },
  {
   "cell_type": "markdown",
   "metadata": {},
   "source": [
    "Assign values in columns prim_contributory_cause in order to determine if Driver is at fault.\n",
    "\n",
    "Driver at fault = 1\n",
    "\n",
    "Outside circumstances= 0"
   ]
  },
  {
   "cell_type": "code",
   "execution_count": 10,
   "metadata": {
    "scrolled": false
   },
   "outputs": [
    {
     "data": {
      "text/plain": [
       "{'UNABLE TO DETERMINE': 184177,\n",
       " 'FAILING TO YIELD RIGHT-OF-WAY': 54473,\n",
       " 'FOLLOWING TOO CLOSELY': 52427,\n",
       " 'NOT APPLICABLE': 26650,\n",
       " 'IMPROPER OVERTAKING/PASSING': 23572,\n",
       " 'IMPROPER BACKING': 21669,\n",
       " 'FAILING TO REDUCE SPEED TO AVOID CRASH': 21422,\n",
       " 'IMPROPER LANE USAGE': 19136,\n",
       " 'IMPROPER TURNING/NO SIGNAL': 16439,\n",
       " 'DRIVING SKILLS/KNOWLEDGE/EXPERIENCE': 15567,\n",
       " 'DISREGARDING TRAFFIC SIGNALS': 9036,\n",
       " 'WEATHER': 8529,\n",
       " 'OPERATING VEHICLE IN ERRATIC, RECKLESS, CARELESS, NEGLIGENT OR AGGRESSIVE MANNER': 6205,\n",
       " 'DISREGARDING STOP SIGN': 5500,\n",
       " 'DISTRACTION - FROM INSIDE VEHICLE': 3640,\n",
       " 'EQUIPMENT - VEHICLE CONDITION': 3121,\n",
       " 'PHYSICAL CONDITION OF DRIVER': 2915,\n",
       " 'VISION OBSCURED (SIGNS, TREE LIMBS, BUILDINGS, ETC.)': 2911,\n",
       " 'UNDER THE INFLUENCE OF ALCOHOL/DRUGS (USE WHEN ARREST IS EFFECTED)': 2647,\n",
       " 'DRIVING ON WRONG SIDE/WRONG WAY': 2346,\n",
       " 'DISTRACTION - FROM OUTSIDE VEHICLE': 2185,\n",
       " 'EXCEEDING AUTHORIZED SPEED LIMIT': 1982,\n",
       " 'EXCEEDING SAFE SPEED FOR CONDITIONS': 1684,\n",
       " 'ROAD ENGINEERING/SURFACE/MARKING DEFECTS': 1390,\n",
       " 'ROAD CONSTRUCTION/MAINTENANCE': 1197,\n",
       " 'DISREGARDING OTHER TRAFFIC SIGNS': 1068,\n",
       " 'EVASIVE ACTION DUE TO ANIMAL, OBJECT, NONMOTORIST': 926,\n",
       " 'CELL PHONE USE OTHER THAN TEXTING': 697,\n",
       " 'DISREGARDING ROAD MARKINGS': 677,\n",
       " 'HAD BEEN DRINKING (USE WHEN ARREST IS NOT MADE)': 551,\n",
       " 'ANIMAL': 416,\n",
       " 'TURNING RIGHT ON RED': 349,\n",
       " 'DISTRACTION - OTHER ELECTRONIC DEVICE (NAVIGATION DEVICE, DVD PLAYER, ETC.)': 235,\n",
       " 'TEXTING': 215,\n",
       " 'DISREGARDING YIELD SIGN': 187,\n",
       " 'RELATED TO BUS STOP': 168,\n",
       " 'BICYCLE ADVANCING LEGALLY ON RED LIGHT': 66,\n",
       " 'PASSING STOPPED SCHOOL BUS': 64,\n",
       " 'OBSTRUCTED CROSSWALKS': 33,\n",
       " 'MOTORCYCLE ADVANCING LEGALLY ON RED LIGHT': 19}"
      ]
     },
     "execution_count": 10,
     "metadata": {},
     "output_type": "execute_result"
    }
   ],
   "source": [
    "#check value count\n",
    "df['prim_contributory_cause'].value_counts().to_dict()"
   ]
  },
  {
   "cell_type": "code",
   "execution_count": 11,
   "metadata": {},
   "outputs": [],
   "source": [
    "#assigning values\n",
    "num= {'UNABLE TO DETERMINE': 0,\n",
    " 'FAILING TO YIELD RIGHT-OF-WAY': 1,\n",
    " 'FOLLOWING TOO CLOSELY': 1,\n",
    " 'NOT APPLICABLE': 0,\n",
    " 'IMPROPER OVERTAKING/PASSING': 23572,\n",
    " 'IMPROPER BACKING': 21669,\n",
    " 'FAILING TO REDUCE SPEED TO AVOID CRASH': 21422,\n",
    " 'IMPROPER LANE USAGE': 19136,\n",
    " 'IMPROPER TURNING/NO SIGNAL': 16439,\n",
    " 'DRIVING SKILLS/KNOWLEDGE/EXPERIENCE': 15567,\n",
    " 'DISREGARDING TRAFFIC SIGNALS': 9036,\n",
    " 'WEATHER': 0,\n",
    " 'OPERATING VEHICLE IN ERRATIC, RECKLESS, CARELESS, NEGLIGENT OR AGGRESSIVE MANNER': 6205,\n",
    " 'DISREGARDING STOP SIGN': 5500,\n",
    " 'DISTRACTION - FROM INSIDE VEHICLE': 3640,\n",
    " 'EQUIPMENT - VEHICLE CONDITION': 0,\n",
    " 'PHYSICAL CONDITION OF DRIVER': 2915,\n",
    " 'VISION OBSCURED (SIGNS, TREE LIMBS, BUILDINGS, ETC.)': 0,\n",
    " 'UNDER THE INFLUENCE OF ALCOHOL/DRUGS (USE WHEN ARREST IS EFFECTED)': 2647,\n",
    " 'DRIVING ON WRONG SIDE/WRONG WAY': 2346,\n",
    " 'DISTRACTION - FROM OUTSIDE VEHICLE': 2185,\n",
    " 'EXCEEDING AUTHORIZED SPEED LIMIT': 1982,\n",
    " 'EXCEEDING SAFE SPEED FOR CONDITIONS': 1684,\n",
    " 'ROAD ENGINEERING/SURFACE/MARKING DEFECTS': 0,\n",
    " 'ROAD CONSTRUCTION/MAINTENANCE': 0,\n",
    " 'DISREGARDING OTHER TRAFFIC SIGNS': 1068,\n",
    " 'EVASIVE ACTION DUE TO ANIMAL, OBJECT, NONMOTORIST': 0,\n",
    " 'CELL PHONE USE OTHER THAN TEXTING': 697,\n",
    " 'DISREGARDING ROAD MARKINGS': 677,\n",
    " 'HAD BEEN DRINKING (USE WHEN ARREST IS NOT MADE)': 551,\n",
    " 'ANIMAL': 0,\n",
    " 'TURNING RIGHT ON RED': 349,\n",
    " 'DISTRACTION - OTHER ELECTRONIC DEVICE (NAVIGATION DEVICE, DVD PLAYER, ETC.)': 235,\n",
    " 'TEXTING': 215,\n",
    " 'DISREGARDING YIELD SIGN': 187,\n",
    " 'RELATED TO BUS STOP': 168,\n",
    " 'BICYCLE ADVANCING LEGALLY ON RED LIGHT': 66,\n",
    " 'PASSING STOPPED SCHOOL BUS': 64,\n",
    " 'OBSTRUCTED CROSSWALKS': 33,\n",
    " 'MOTORCYCLE ADVANCING LEGALLY ON RED LIGHT': 19}"
   ]
  },
  {
   "cell_type": "code",
   "execution_count": 12,
   "metadata": {},
   "outputs": [],
   "source": [
    "#assign 1- to driver responsibility\n",
    "for key in num.keys():\n",
    "    if num[key]:\n",
    "        num[key]=1"
   ]
  },
  {
   "cell_type": "code",
   "execution_count": 13,
   "metadata": {
    "scrolled": false
   },
   "outputs": [
    {
     "data": {
      "text/plain": [
       "{'UNABLE TO DETERMINE': 0,\n",
       " 'FAILING TO YIELD RIGHT-OF-WAY': 1,\n",
       " 'FOLLOWING TOO CLOSELY': 1,\n",
       " 'NOT APPLICABLE': 0,\n",
       " 'IMPROPER OVERTAKING/PASSING': 1,\n",
       " 'IMPROPER BACKING': 1,\n",
       " 'FAILING TO REDUCE SPEED TO AVOID CRASH': 1,\n",
       " 'IMPROPER LANE USAGE': 1,\n",
       " 'IMPROPER TURNING/NO SIGNAL': 1,\n",
       " 'DRIVING SKILLS/KNOWLEDGE/EXPERIENCE': 1,\n",
       " 'DISREGARDING TRAFFIC SIGNALS': 1,\n",
       " 'WEATHER': 0,\n",
       " 'OPERATING VEHICLE IN ERRATIC, RECKLESS, CARELESS, NEGLIGENT OR AGGRESSIVE MANNER': 1,\n",
       " 'DISREGARDING STOP SIGN': 1,\n",
       " 'DISTRACTION - FROM INSIDE VEHICLE': 1,\n",
       " 'EQUIPMENT - VEHICLE CONDITION': 0,\n",
       " 'PHYSICAL CONDITION OF DRIVER': 1,\n",
       " 'VISION OBSCURED (SIGNS, TREE LIMBS, BUILDINGS, ETC.)': 0,\n",
       " 'UNDER THE INFLUENCE OF ALCOHOL/DRUGS (USE WHEN ARREST IS EFFECTED)': 1,\n",
       " 'DRIVING ON WRONG SIDE/WRONG WAY': 1,\n",
       " 'DISTRACTION - FROM OUTSIDE VEHICLE': 1,\n",
       " 'EXCEEDING AUTHORIZED SPEED LIMIT': 1,\n",
       " 'EXCEEDING SAFE SPEED FOR CONDITIONS': 1,\n",
       " 'ROAD ENGINEERING/SURFACE/MARKING DEFECTS': 0,\n",
       " 'ROAD CONSTRUCTION/MAINTENANCE': 0,\n",
       " 'DISREGARDING OTHER TRAFFIC SIGNS': 1,\n",
       " 'EVASIVE ACTION DUE TO ANIMAL, OBJECT, NONMOTORIST': 0,\n",
       " 'CELL PHONE USE OTHER THAN TEXTING': 1,\n",
       " 'DISREGARDING ROAD MARKINGS': 1,\n",
       " 'HAD BEEN DRINKING (USE WHEN ARREST IS NOT MADE)': 1,\n",
       " 'ANIMAL': 0,\n",
       " 'TURNING RIGHT ON RED': 1,\n",
       " 'DISTRACTION - OTHER ELECTRONIC DEVICE (NAVIGATION DEVICE, DVD PLAYER, ETC.)': 1,\n",
       " 'TEXTING': 1,\n",
       " 'DISREGARDING YIELD SIGN': 1,\n",
       " 'RELATED TO BUS STOP': 1,\n",
       " 'BICYCLE ADVANCING LEGALLY ON RED LIGHT': 1,\n",
       " 'PASSING STOPPED SCHOOL BUS': 1,\n",
       " 'OBSTRUCTED CROSSWALKS': 1,\n",
       " 'MOTORCYCLE ADVANCING LEGALLY ON RED LIGHT': 1}"
      ]
     },
     "execution_count": 13,
     "metadata": {},
     "output_type": "execute_result"
    }
   ],
   "source": [
    "num"
   ]
  },
  {
   "cell_type": "code",
   "execution_count": 14,
   "metadata": {},
   "outputs": [],
   "source": [
    "##apply new column to DataFrame\n",
    "df['target']= df.prim_contributory_cause.map(num)"
   ]
  },
  {
   "cell_type": "code",
   "execution_count": 15,
   "metadata": {
    "scrolled": false
   },
   "outputs": [
    {
     "data": {
      "text/html": [
       "<div>\n",
       "<style scoped>\n",
       "    .dataframe tbody tr th:only-of-type {\n",
       "        vertical-align: middle;\n",
       "    }\n",
       "\n",
       "    .dataframe tbody tr th {\n",
       "        vertical-align: top;\n",
       "    }\n",
       "\n",
       "    .dataframe thead th {\n",
       "        text-align: right;\n",
       "    }\n",
       "</style>\n",
       "<table border=\"1\" class=\"dataframe\">\n",
       "  <thead>\n",
       "    <tr style=\"text-align: right;\">\n",
       "      <th></th>\n",
       "      <th>crash_record_id</th>\n",
       "      <th>crash_date</th>\n",
       "      <th>posted_speed_limit</th>\n",
       "      <th>traffic_control_device</th>\n",
       "      <th>device_condition</th>\n",
       "      <th>weather_condition</th>\n",
       "      <th>lighting_condition</th>\n",
       "      <th>first_crash_type</th>\n",
       "      <th>trafficway_type</th>\n",
       "      <th>alignment</th>\n",
       "      <th>...</th>\n",
       "      <th>damage</th>\n",
       "      <th>date_police_notified</th>\n",
       "      <th>prim_contributory_cause</th>\n",
       "      <th>sec_contributory_cause</th>\n",
       "      <th>street_no</th>\n",
       "      <th>num_units</th>\n",
       "      <th>crash_hour</th>\n",
       "      <th>crash_day_of_week</th>\n",
       "      <th>crash_month</th>\n",
       "      <th>target</th>\n",
       "    </tr>\n",
       "  </thead>\n",
       "  <tbody>\n",
       "    <tr>\n",
       "      <th>0</th>\n",
       "      <td>4fd0a3e0897b3335b94cd8d5b2d2b350eb691add56c62d...</td>\n",
       "      <td>07/10/2019 05:56:00 PM</td>\n",
       "      <td>35</td>\n",
       "      <td>NO CONTROLS</td>\n",
       "      <td>NO CONTROLS</td>\n",
       "      <td>CLEAR</td>\n",
       "      <td>DAYLIGHT</td>\n",
       "      <td>TURNING</td>\n",
       "      <td>ONE-WAY</td>\n",
       "      <td>STRAIGHT AND LEVEL</td>\n",
       "      <td>...</td>\n",
       "      <td>OVER $1,500</td>\n",
       "      <td>07/10/2019 06:16:00 PM</td>\n",
       "      <td>IMPROPER BACKING</td>\n",
       "      <td>UNABLE TO DETERMINE</td>\n",
       "      <td>2158</td>\n",
       "      <td>2</td>\n",
       "      <td>17</td>\n",
       "      <td>4</td>\n",
       "      <td>7</td>\n",
       "      <td>1</td>\n",
       "    </tr>\n",
       "    <tr>\n",
       "      <th>1</th>\n",
       "      <td>009e9e67203442370272e1a13d6ee51a4155dac65e583d...</td>\n",
       "      <td>06/30/2017 04:00:00 PM</td>\n",
       "      <td>35</td>\n",
       "      <td>STOP SIGN/FLASHER</td>\n",
       "      <td>FUNCTIONING PROPERLY</td>\n",
       "      <td>CLEAR</td>\n",
       "      <td>DAYLIGHT</td>\n",
       "      <td>TURNING</td>\n",
       "      <td>NOT DIVIDED</td>\n",
       "      <td>STRAIGHT AND LEVEL</td>\n",
       "      <td>...</td>\n",
       "      <td>OVER $1,500</td>\n",
       "      <td>06/30/2017 04:01:00 PM</td>\n",
       "      <td>FAILING TO YIELD RIGHT-OF-WAY</td>\n",
       "      <td>NOT APPLICABLE</td>\n",
       "      <td>8301</td>\n",
       "      <td>2</td>\n",
       "      <td>16</td>\n",
       "      <td>6</td>\n",
       "      <td>6</td>\n",
       "      <td>1</td>\n",
       "    </tr>\n",
       "    <tr>\n",
       "      <th>2</th>\n",
       "      <td>ee9283eff3a55ac50ee58f3d9528ce1d689b1c4180b4c4...</td>\n",
       "      <td>07/10/2020 10:25:00 AM</td>\n",
       "      <td>30</td>\n",
       "      <td>TRAFFIC SIGNAL</td>\n",
       "      <td>FUNCTIONING PROPERLY</td>\n",
       "      <td>CLEAR</td>\n",
       "      <td>DAYLIGHT</td>\n",
       "      <td>REAR END</td>\n",
       "      <td>FOUR WAY</td>\n",
       "      <td>STRAIGHT AND LEVEL</td>\n",
       "      <td>...</td>\n",
       "      <td>OVER $1,500</td>\n",
       "      <td>07/10/2020 10:25:00 AM</td>\n",
       "      <td>FAILING TO YIELD RIGHT-OF-WAY</td>\n",
       "      <td>FAILING TO YIELD RIGHT-OF-WAY</td>\n",
       "      <td>1632</td>\n",
       "      <td>3</td>\n",
       "      <td>10</td>\n",
       "      <td>6</td>\n",
       "      <td>7</td>\n",
       "      <td>1</td>\n",
       "    </tr>\n",
       "    <tr>\n",
       "      <th>3</th>\n",
       "      <td>f8960f698e870ebdc60b521b2a141a5395556bc3704191...</td>\n",
       "      <td>07/11/2020 01:00:00 AM</td>\n",
       "      <td>30</td>\n",
       "      <td>NO CONTROLS</td>\n",
       "      <td>NO CONTROLS</td>\n",
       "      <td>CLEAR</td>\n",
       "      <td>DARKNESS</td>\n",
       "      <td>PARKED MOTOR VEHICLE</td>\n",
       "      <td>DIVIDED - W/MEDIAN (NOT RAISED)</td>\n",
       "      <td>STRAIGHT AND LEVEL</td>\n",
       "      <td>...</td>\n",
       "      <td>$500 OR LESS</td>\n",
       "      <td>07/11/2020 08:30:00 AM</td>\n",
       "      <td>UNABLE TO DETERMINE</td>\n",
       "      <td>UNABLE TO DETERMINE</td>\n",
       "      <td>110</td>\n",
       "      <td>2</td>\n",
       "      <td>1</td>\n",
       "      <td>7</td>\n",
       "      <td>7</td>\n",
       "      <td>0</td>\n",
       "    </tr>\n",
       "    <tr>\n",
       "      <th>4</th>\n",
       "      <td>8eaa2678d1a127804ee9b8c35ddf7d63d913c14eda61d6...</td>\n",
       "      <td>07/08/2020 02:00:00 PM</td>\n",
       "      <td>20</td>\n",
       "      <td>NO CONTROLS</td>\n",
       "      <td>NO CONTROLS</td>\n",
       "      <td>CLEAR</td>\n",
       "      <td>DAYLIGHT</td>\n",
       "      <td>PARKED MOTOR VEHICLE</td>\n",
       "      <td>DRIVEWAY</td>\n",
       "      <td>STRAIGHT AND LEVEL</td>\n",
       "      <td>...</td>\n",
       "      <td>OVER $1,500</td>\n",
       "      <td>07/08/2020 02:15:00 PM</td>\n",
       "      <td>UNABLE TO DETERMINE</td>\n",
       "      <td>UNABLE TO DETERMINE</td>\n",
       "      <td>412</td>\n",
       "      <td>2</td>\n",
       "      <td>14</td>\n",
       "      <td>4</td>\n",
       "      <td>7</td>\n",
       "      <td>0</td>\n",
       "    </tr>\n",
       "  </tbody>\n",
       "</table>\n",
       "<p>5 rows × 23 columns</p>\n",
       "</div>"
      ],
      "text/plain": [
       "                                     crash_record_id              crash_date  \\\n",
       "0  4fd0a3e0897b3335b94cd8d5b2d2b350eb691add56c62d...  07/10/2019 05:56:00 PM   \n",
       "1  009e9e67203442370272e1a13d6ee51a4155dac65e583d...  06/30/2017 04:00:00 PM   \n",
       "2  ee9283eff3a55ac50ee58f3d9528ce1d689b1c4180b4c4...  07/10/2020 10:25:00 AM   \n",
       "3  f8960f698e870ebdc60b521b2a141a5395556bc3704191...  07/11/2020 01:00:00 AM   \n",
       "4  8eaa2678d1a127804ee9b8c35ddf7d63d913c14eda61d6...  07/08/2020 02:00:00 PM   \n",
       "\n",
       "   posted_speed_limit traffic_control_device      device_condition  \\\n",
       "0                  35            NO CONTROLS           NO CONTROLS   \n",
       "1                  35      STOP SIGN/FLASHER  FUNCTIONING PROPERLY   \n",
       "2                  30         TRAFFIC SIGNAL  FUNCTIONING PROPERLY   \n",
       "3                  30            NO CONTROLS           NO CONTROLS   \n",
       "4                  20            NO CONTROLS           NO CONTROLS   \n",
       "\n",
       "  weather_condition lighting_condition      first_crash_type  \\\n",
       "0             CLEAR           DAYLIGHT               TURNING   \n",
       "1             CLEAR           DAYLIGHT               TURNING   \n",
       "2             CLEAR           DAYLIGHT              REAR END   \n",
       "3             CLEAR           DARKNESS  PARKED MOTOR VEHICLE   \n",
       "4             CLEAR           DAYLIGHT  PARKED MOTOR VEHICLE   \n",
       "\n",
       "                   trafficway_type           alignment  ...        damage  \\\n",
       "0                          ONE-WAY  STRAIGHT AND LEVEL  ...   OVER $1,500   \n",
       "1                      NOT DIVIDED  STRAIGHT AND LEVEL  ...   OVER $1,500   \n",
       "2                         FOUR WAY  STRAIGHT AND LEVEL  ...   OVER $1,500   \n",
       "3  DIVIDED - W/MEDIAN (NOT RAISED)  STRAIGHT AND LEVEL  ...  $500 OR LESS   \n",
       "4                         DRIVEWAY  STRAIGHT AND LEVEL  ...   OVER $1,500   \n",
       "\n",
       "     date_police_notified        prim_contributory_cause  \\\n",
       "0  07/10/2019 06:16:00 PM               IMPROPER BACKING   \n",
       "1  06/30/2017 04:01:00 PM  FAILING TO YIELD RIGHT-OF-WAY   \n",
       "2  07/10/2020 10:25:00 AM  FAILING TO YIELD RIGHT-OF-WAY   \n",
       "3  07/11/2020 08:30:00 AM            UNABLE TO DETERMINE   \n",
       "4  07/08/2020 02:15:00 PM            UNABLE TO DETERMINE   \n",
       "\n",
       "          sec_contributory_cause street_no num_units crash_hour  \\\n",
       "0            UNABLE TO DETERMINE      2158         2         17   \n",
       "1                 NOT APPLICABLE      8301         2         16   \n",
       "2  FAILING TO YIELD RIGHT-OF-WAY      1632         3         10   \n",
       "3            UNABLE TO DETERMINE       110         2          1   \n",
       "4            UNABLE TO DETERMINE       412         2         14   \n",
       "\n",
       "   crash_day_of_week  crash_month  target  \n",
       "0                  4            7       1  \n",
       "1                  6            6       1  \n",
       "2                  6            7       1  \n",
       "3                  7            7       0  \n",
       "4                  4            7       0  \n",
       "\n",
       "[5 rows x 23 columns]"
      ]
     },
     "execution_count": 15,
     "metadata": {},
     "output_type": "execute_result"
    }
   ],
   "source": [
    "#check that it is in the DataFrame\n",
    "df.head()"
   ]
  },
  {
   "cell_type": "markdown",
   "metadata": {},
   "source": [
    "## Check Class balance of Target Data"
   ]
  },
  {
   "cell_type": "code",
   "execution_count": 16,
   "metadata": {},
   "outputs": [
    {
     "data": {
      "image/png": "[encoded data removed]",
      "text/plain": [
       "<Figure size 432x288 with 1 Axes>"
      ]
     },
     "metadata": {
      "needs_background": "light"
     },
     "output_type": "display_data"
    }
   ],
   "source": [
    "#Build a graph to visualize the data differnce between Drivers fault and Drivers not at fault\n",
    "\n",
    "count_classes = pd.value_counts(df['target'], sort = True)\n",
    "\n",
    "count_classes.plot(kind = 'bar', rot=0)\n",
    "\n",
    "plt.title(\"Visualization of Where fault lie\")\n",
    "\n",
    "plt.xticks(range(2))\n",
    "\n",
    "plt.xlabel(\"Who is at Fault\")\n",
    "\n",
    "plt.ylabel(\"Number of Accidents\")\n",
    "plt.savefig('class_balance', dpi=300)"
   ]
  },
  {
   "cell_type": "code",
   "execution_count": 129,
   "metadata": {},
   "outputs": [],
   "source": [
    "#Assign variables names to Target values\n",
    "\n",
    "not_fault = df[df['target']==1]\n",
    "\n",
    "fault = df[df['target']==0]"
   ]
  },
  {
   "cell_type": "code",
   "execution_count": 130,
   "metadata": {
    "scrolled": true
   },
   "outputs": [
    {
     "name": "stdout",
     "output_type": "stream",
     "text": [
      "(267174, 23) (229317, 23)\n"
     ]
    }
   ],
   "source": [
    "print(not_fault.shape, fault.shape)"
   ]
  },
  {
   "cell_type": "markdown",
   "metadata": {},
   "source": [
    "The Dataset shows that the dataset is pretty evenly distributed with a small bias to false positives. The difference between the Driver at fault, fault, and outside circumstances, not_fault, is 37,857."
   ]
  },
  {
   "cell_type": "markdown",
   "metadata": {},
   "source": [
    "## Train and Model data"
   ]
  },
  {
   "cell_type": "markdown",
   "metadata": {},
   "source": [
    "Train the data and apply the X values to the DataFrame's numeric values then check cross validation."
   ]
  },
  {
   "cell_type": "code",
   "execution_count": 132,
   "metadata": {
    "scrolled": false
   },
   "outputs": [
    {
     "data": {
      "text/plain": [
       "crash_record_id            object\n",
       "crash_date                 object\n",
       "posted_speed_limit          int64\n",
       "traffic_control_device     object\n",
       "device_condition           object\n",
       "weather_condition          object\n",
       "lighting_condition         object\n",
       "first_crash_type           object\n",
       "trafficway_type            object\n",
       "alignment                  object\n",
       "roadway_surface_cond       object\n",
       "road_defect                object\n",
       "crash_type                 object\n",
       "damage                     object\n",
       "date_police_notified       object\n",
       "prim_contributory_cause    object\n",
       "sec_contributory_cause     object\n",
       "street_no                   int64\n",
       "num_units                   int64\n",
       "crash_hour                  int64\n",
       "crash_day_of_week           int64\n",
       "crash_month                 int64\n",
       "target                      int64\n",
       "dtype: object"
      ]
     },
     "execution_count": 132,
     "metadata": {},
     "output_type": "execute_result"
    }
   ],
   "source": [
    "#Check that data is uniform\n",
    "df.dtypes"
   ]
  },
  {
   "cell_type": "code",
   "execution_count": 133,
   "metadata": {},
   "outputs": [],
   "source": [
    "#drop unneeded columns\n",
    "drop= ['crash_record_id',\n",
    "'crash_date',\n",
    "'first_crash_type',      \n",
    "'crash_type',\n",
    "'date_police_notified',\n",
    "'prim_contributory_cause',\n",
    "'sec_contributory_cause',\n",
    "'street_no']\n",
    "df= df.drop(drop, axis=1)"
   ]
  },
  {
   "cell_type": "code",
   "execution_count": 147,
   "metadata": {},
   "outputs": [],
   "source": [
    "#train data\n",
    "X = df.drop('target', axis=1)\n",
    "y = df['target']\n",
    "\n",
    "X_train, X_test, y_train, y_test = train_test_split(X, y, random_state=42)"
   ]
  },
  {
   "cell_type": "code",
   "execution_count": 148,
   "metadata": {
    "scrolled": true
   },
   "outputs": [],
   "source": [
    "#seporate numerical features\n",
    "num_feats = DummyClassifier(strategy= 'most_frequent')\n",
    "X_train_numeric = X_train[['posted_speed_limit',   \n",
    "                           'num_units',   \n",
    "                             'crash_hour', \n",
    "                           'crash_day_of_week', 'crash_month', ]].copy()"
   ]
  },
  {
   "cell_type": "code",
   "execution_count": 149,
   "metadata": {},
   "outputs": [],
   "source": [
    "num_feats = DummyClassifier(strategy= 'most_frequent')\n",
    "X_test_numeric = X_test[['posted_speed_limit',   \n",
    "                           'num_units',   \n",
    "                             'crash_hour', \n",
    "                           'crash_day_of_week', 'crash_month', ]].copy()"
   ]
  },
  {
   "cell_type": "code",
   "execution_count": 137,
   "metadata": {},
   "outputs": [
    {
     "data": {
      "text/plain": [
       "array([0.53746274, 0.53746274, 0.53744931, 0.53745653, 0.53745653])"
      ]
     },
     "execution_count": 137,
     "metadata": {},
     "output_type": "execute_result"
    }
   ],
   "source": [
    "#check cross validation score of numerical features\n",
    "num_cross_val_score = cross_val_score(num_feats, X_train_numeric, y_train, cv=5)\n",
    "num_cross_val_score"
   ]
  },
  {
   "cell_type": "markdown",
   "metadata": {},
   "source": [
    "### Scaling Data"
   ]
  },
  {
   "cell_type": "markdown",
   "metadata": {},
   "source": [
    "Scale data then model the data to preform a logistic Regression model. Finally, check the predictivity score of the model."
   ]
  },
  {
   "cell_type": "code",
   "execution_count": null,
   "metadata": {},
   "outputs": [],
   "source": [
    "log_reg_model = LogisticRegression()"
   ]
  },
  {
   "cell_type": "code",
   "execution_count": 150,
   "metadata": {},
   "outputs": [],
   "source": [
    "#fit and transform trained data into scaled data.\n",
    "scaler= StandardScaler()\n",
    "X_train_scaled=X_train_numeric.copy()\n",
    "scaler.fit(X_train_scaled)\n",
    "X_train_scaled=scaler.transform(X_train_scaled)"
   ]
  },
  {
   "cell_type": "code",
   "execution_count": 151,
   "metadata": {},
   "outputs": [
    {
     "data": {
      "text/plain": [
       "array([0.56822515, 0.56657357, 0.56857427, 0.5686759 , 0.56903844])"
      ]
     },
     "execution_count": 151,
     "metadata": {},
     "output_type": "execute_result"
    }
   ],
   "source": [
    "#scaled logestical regession model\n",
    "num_cross_val_score = cross_val_score(log_reg_model, X_train_scaled, y_train, cv=5)\n",
    "num_cross_val_score"
   ]
  },
  {
   "cell_type": "code",
   "execution_count": 158,
   "metadata": {},
   "outputs": [],
   "source": [
    "log_reg_model= LogisticRegression(random_state=0).fit(X_train_scaled, y_train)"
   ]
  },
  {
   "cell_type": "code",
   "execution_count": 197,
   "metadata": {
    "scrolled": true
   },
   "outputs": [
    {
     "data": {
      "text/plain": [
       "array([[0.45827858, 0.54172142],\n",
       "       [0.46637025, 0.53362975],\n",
       "       [0.55293695, 0.44706305],\n",
       "       ...,\n",
       "       [0.47047336, 0.52952664],\n",
       "       [0.48431316, 0.51568684],\n",
       "       [0.41606071, 0.58393929]])"
      ]
     },
     "execution_count": 197,
     "metadata": {},
     "output_type": "execute_result"
    }
   ],
   "source": [
    "log_reg_model.predict_proba(X_train_scaled)"
   ]
  },
  {
   "cell_type": "code",
   "execution_count": 178,
   "metadata": {},
   "outputs": [
    {
     "data": {
      "text/plain": [
       "0.5682040347183431"
      ]
     },
     "execution_count": 178,
     "metadata": {},
     "output_type": "execute_result"
    }
   ],
   "source": [
    "log_reg_model.score(X_train_scaled, y_train)"
   ]
  },
  {
   "cell_type": "markdown",
   "metadata": {},
   "source": [
    "The accuracy score shows that this model is predictive up to about 56%. The use of the numerical features allow us to predict the probability of a Driver at fault by more than half. The next steps is to add the categorical features to see if they will increase the odds ratio."
   ]
  },
  {
   "cell_type": "markdown",
   "metadata": {},
   "source": [
    "### OneHotEncode Categorical Data for logistical Regression"
   ]
  },
  {
   "cell_type": "code",
   "execution_count": 159,
   "metadata": {
    "scrolled": true
   },
   "outputs": [
    {
     "data": {
      "text/plain": [
       "posted_speed_limit         int64\n",
       "traffic_control_device    object\n",
       "device_condition          object\n",
       "weather_condition         object\n",
       "lighting_condition        object\n",
       "trafficway_type           object\n",
       "alignment                 object\n",
       "roadway_surface_cond      object\n",
       "road_defect               object\n",
       "damage                    object\n",
       "num_units                  int64\n",
       "crash_hour                 int64\n",
       "crash_day_of_week          int64\n",
       "crash_month                int64\n",
       "dtype: object"
      ]
     },
     "execution_count": 159,
     "metadata": {},
     "output_type": "execute_result"
    }
   ],
   "source": [
    "#find the Categorical Data\n",
    "X_train.dtypes"
   ]
  },
  {
   "cell_type": "code",
   "execution_count": 160,
   "metadata": {},
   "outputs": [],
   "source": [
    "#fit and transform categoricals\n",
    "categoricals = X_train.select_dtypes('object')\n",
    "categorical_names = categoricals.columns\n",
    "ohe = OneHotEncoder(sparse= False)\n",
    "ohe.fit(categoricals)\n",
    "categorical_ohe= ohe.transform(categoricals)\n",
    "\n",
    "categorical_ohe=pd.DataFrame(categorical_ohe, columns= ohe.get_feature_names())"
   ]
  },
  {
   "cell_type": "code",
   "execution_count": 161,
   "metadata": {
    "scrolled": true
   },
   "outputs": [],
   "source": [
    "#drop and concat categorical data\n",
    "X_train= X_train.reset_index()\n",
    "X_train= X_train.drop(categorical_names, axis= 1)\n",
    "X_train_ohe= pd.concat([X_train, categorical_ohe], axis= 1)\n"
   ]
  },
  {
   "cell_type": "code",
   "execution_count": 162,
   "metadata": {},
   "outputs": [
    {
     "data": {
      "text/html": [
       "<div>\n",
       "<style scoped>\n",
       "    .dataframe tbody tr th:only-of-type {\n",
       "        vertical-align: middle;\n",
       "    }\n",
       "\n",
       "    .dataframe tbody tr th {\n",
       "        vertical-align: top;\n",
       "    }\n",
       "\n",
       "    .dataframe thead th {\n",
       "        text-align: right;\n",
       "    }\n",
       "</style>\n",
       "<table border=\"1\" class=\"dataframe\">\n",
       "  <thead>\n",
       "    <tr style=\"text-align: right;\">\n",
       "      <th></th>\n",
       "      <th>index</th>\n",
       "      <th>posted_speed_limit</th>\n",
       "      <th>num_units</th>\n",
       "      <th>crash_hour</th>\n",
       "      <th>crash_day_of_week</th>\n",
       "      <th>crash_month</th>\n",
       "      <th>x0_BICYCLE CROSSING SIGN</th>\n",
       "      <th>x0_DELINEATORS</th>\n",
       "      <th>x0_FLASHING CONTROL SIGNAL</th>\n",
       "      <th>x0_LANE USE MARKING</th>\n",
       "      <th>...</th>\n",
       "      <th>x7_DEBRIS ON ROADWAY</th>\n",
       "      <th>x7_NO DEFECTS</th>\n",
       "      <th>x7_OTHER</th>\n",
       "      <th>x7_RUT, HOLES</th>\n",
       "      <th>x7_SHOULDER DEFECT</th>\n",
       "      <th>x7_UNKNOWN</th>\n",
       "      <th>x7_WORN SURFACE</th>\n",
       "      <th>x8_$500 OR LESS</th>\n",
       "      <th>x8_$501 - $1,500</th>\n",
       "      <th>x8_OVER $1,500</th>\n",
       "    </tr>\n",
       "  </thead>\n",
       "  <tbody>\n",
       "    <tr>\n",
       "      <th>0</th>\n",
       "      <td>45171</td>\n",
       "      <td>35</td>\n",
       "      <td>2</td>\n",
       "      <td>8</td>\n",
       "      <td>2</td>\n",
       "      <td>1</td>\n",
       "      <td>0.0</td>\n",
       "      <td>0.0</td>\n",
       "      <td>0.0</td>\n",
       "      <td>0.0</td>\n",
       "      <td>...</td>\n",
       "      <td>0.0</td>\n",
       "      <td>1.0</td>\n",
       "      <td>0.0</td>\n",
       "      <td>0.0</td>\n",
       "      <td>0.0</td>\n",
       "      <td>0.0</td>\n",
       "      <td>0.0</td>\n",
       "      <td>0.0</td>\n",
       "      <td>0.0</td>\n",
       "      <td>1.0</td>\n",
       "    </tr>\n",
       "    <tr>\n",
       "      <th>1</th>\n",
       "      <td>198424</td>\n",
       "      <td>30</td>\n",
       "      <td>2</td>\n",
       "      <td>7</td>\n",
       "      <td>2</td>\n",
       "      <td>12</td>\n",
       "      <td>0.0</td>\n",
       "      <td>0.0</td>\n",
       "      <td>0.0</td>\n",
       "      <td>0.0</td>\n",
       "      <td>...</td>\n",
       "      <td>0.0</td>\n",
       "      <td>1.0</td>\n",
       "      <td>0.0</td>\n",
       "      <td>0.0</td>\n",
       "      <td>0.0</td>\n",
       "      <td>0.0</td>\n",
       "      <td>0.0</td>\n",
       "      <td>1.0</td>\n",
       "      <td>0.0</td>\n",
       "      <td>0.0</td>\n",
       "    </tr>\n",
       "    <tr>\n",
       "      <th>2</th>\n",
       "      <td>231653</td>\n",
       "      <td>10</td>\n",
       "      <td>2</td>\n",
       "      <td>13</td>\n",
       "      <td>7</td>\n",
       "      <td>10</td>\n",
       "      <td>0.0</td>\n",
       "      <td>0.0</td>\n",
       "      <td>0.0</td>\n",
       "      <td>0.0</td>\n",
       "      <td>...</td>\n",
       "      <td>0.0</td>\n",
       "      <td>1.0</td>\n",
       "      <td>0.0</td>\n",
       "      <td>0.0</td>\n",
       "      <td>0.0</td>\n",
       "      <td>0.0</td>\n",
       "      <td>0.0</td>\n",
       "      <td>0.0</td>\n",
       "      <td>1.0</td>\n",
       "      <td>0.0</td>\n",
       "    </tr>\n",
       "    <tr>\n",
       "      <th>3</th>\n",
       "      <td>19472</td>\n",
       "      <td>30</td>\n",
       "      <td>2</td>\n",
       "      <td>19</td>\n",
       "      <td>6</td>\n",
       "      <td>3</td>\n",
       "      <td>0.0</td>\n",
       "      <td>0.0</td>\n",
       "      <td>0.0</td>\n",
       "      <td>0.0</td>\n",
       "      <td>...</td>\n",
       "      <td>0.0</td>\n",
       "      <td>1.0</td>\n",
       "      <td>0.0</td>\n",
       "      <td>0.0</td>\n",
       "      <td>0.0</td>\n",
       "      <td>0.0</td>\n",
       "      <td>0.0</td>\n",
       "      <td>0.0</td>\n",
       "      <td>1.0</td>\n",
       "      <td>0.0</td>\n",
       "    </tr>\n",
       "    <tr>\n",
       "      <th>4</th>\n",
       "      <td>390007</td>\n",
       "      <td>30</td>\n",
       "      <td>2</td>\n",
       "      <td>5</td>\n",
       "      <td>4</td>\n",
       "      <td>6</td>\n",
       "      <td>0.0</td>\n",
       "      <td>0.0</td>\n",
       "      <td>0.0</td>\n",
       "      <td>0.0</td>\n",
       "      <td>...</td>\n",
       "      <td>0.0</td>\n",
       "      <td>1.0</td>\n",
       "      <td>0.0</td>\n",
       "      <td>0.0</td>\n",
       "      <td>0.0</td>\n",
       "      <td>0.0</td>\n",
       "      <td>0.0</td>\n",
       "      <td>0.0</td>\n",
       "      <td>1.0</td>\n",
       "      <td>0.0</td>\n",
       "    </tr>\n",
       "  </tbody>\n",
       "</table>\n",
       "<p>5 rows × 94 columns</p>\n",
       "</div>"
      ],
      "text/plain": [
       "    index  posted_speed_limit  num_units  crash_hour  crash_day_of_week  \\\n",
       "0   45171                  35          2           8                  2   \n",
       "1  198424                  30          2           7                  2   \n",
       "2  231653                  10          2          13                  7   \n",
       "3   19472                  30          2          19                  6   \n",
       "4  390007                  30          2           5                  4   \n",
       "\n",
       "   crash_month  x0_BICYCLE CROSSING SIGN  x0_DELINEATORS  \\\n",
       "0            1                       0.0             0.0   \n",
       "1           12                       0.0             0.0   \n",
       "2           10                       0.0             0.0   \n",
       "3            3                       0.0             0.0   \n",
       "4            6                       0.0             0.0   \n",
       "\n",
       "   x0_FLASHING CONTROL SIGNAL  x0_LANE USE MARKING  ...  x7_DEBRIS ON ROADWAY  \\\n",
       "0                         0.0                  0.0  ...                   0.0   \n",
       "1                         0.0                  0.0  ...                   0.0   \n",
       "2                         0.0                  0.0  ...                   0.0   \n",
       "3                         0.0                  0.0  ...                   0.0   \n",
       "4                         0.0                  0.0  ...                   0.0   \n",
       "\n",
       "   x7_NO DEFECTS  x7_OTHER  x7_RUT, HOLES  x7_SHOULDER DEFECT  x7_UNKNOWN  \\\n",
       "0            1.0       0.0            0.0                 0.0         0.0   \n",
       "1            1.0       0.0            0.0                 0.0         0.0   \n",
       "2            1.0       0.0            0.0                 0.0         0.0   \n",
       "3            1.0       0.0            0.0                 0.0         0.0   \n",
       "4            1.0       0.0            0.0                 0.0         0.0   \n",
       "\n",
       "   x7_WORN SURFACE  x8_$500 OR LESS  x8_$501 - $1,500  x8_OVER $1,500  \n",
       "0              0.0              0.0               0.0             1.0  \n",
       "1              0.0              1.0               0.0             0.0  \n",
       "2              0.0              0.0               1.0             0.0  \n",
       "3              0.0              0.0               1.0             0.0  \n",
       "4              0.0              0.0               1.0             0.0  \n",
       "\n",
       "[5 rows x 94 columns]"
      ]
     },
     "execution_count": 162,
     "metadata": {},
     "output_type": "execute_result"
    }
   ],
   "source": [
    "#confirm it worked\n",
    "X_train_ohe.head()"
   ]
  },
  {
   "cell_type": "code",
   "execution_count": 185,
   "metadata": {
    "scrolled": false
   },
   "outputs": [
    {
     "name": "stdout",
     "output_type": "stream",
     "text": [
      "Old: [0.56822515 0.56657357 0.56857427 0.5686759  0.56903844]\n",
      "New: [0.53746274 0.53746274 0.53744931 0.53745653 0.53745653]\n"
     ]
    }
   ],
   "source": [
    "#Preform a logistical model with ohe\n",
    "log_model = LogisticRegression()\n",
    "\n",
    "print(\"Old:\", num_cross_val_score)\n",
    "print(\"New:\", cross_val_score(log_model, X_train_ohe, y_train, cv=5))"
   ]
  },
  {
   "cell_type": "code",
   "execution_count": 186,
   "metadata": {},
   "outputs": [],
   "source": [
    "log_model= LogisticRegression(random_state=0).fit(X_train_ohe, y_train)"
   ]
  },
  {
   "cell_type": "code",
   "execution_count": 187,
   "metadata": {
    "scrolled": true
   },
   "outputs": [
    {
     "data": {
      "text/plain": [
       "array([[0.4942098 , 0.5057902 ],\n",
       "       [0.47458601, 0.52541399],\n",
       "       [0.47033934, 0.52966066],\n",
       "       ...,\n",
       "       [0.48309412, 0.51690588],\n",
       "       [0.48118206, 0.51881794],\n",
       "       [0.48437133, 0.51562867]])"
      ]
     },
     "execution_count": 187,
     "metadata": {},
     "output_type": "execute_result"
    }
   ],
   "source": [
    "log_model.predict_proba(X_train_ohe)"
   ]
  },
  {
   "cell_type": "code",
   "execution_count": 195,
   "metadata": {},
   "outputs": [
    {
     "data": {
      "text/plain": [
       "0.537457568856615"
      ]
     },
     "execution_count": 195,
     "metadata": {},
     "output_type": "execute_result"
    }
   ],
   "source": [
    "log_model.score(X_train_ohe, y_train)"
   ]
  },
  {
   "cell_type": "markdown",
   "metadata": {},
   "source": [
    "The addition of the categorical feature did not help the model as expected. The accurscry score fell by about 3%. We will try a different predictive model to see if that will help or accuracy score. We will use the Decision Tree Regression Model. "
   ]
  },
  {
   "cell_type": "markdown",
   "metadata": {},
   "source": [
    "### DecisionTreeRegressor Model"
   ]
  },
  {
   "cell_type": "code",
   "execution_count": 168,
   "metadata": {
    "scrolled": false
   },
   "outputs": [
    {
     "name": "stdout",
     "output_type": "stream",
     "text": [
      "Old: [0.56822515 0.56657357 0.56857427 0.5686759  0.56903844]\n",
      "New: [0.55166904 0.5491581  0.5510648  0.5524284  0.55037396]\n"
     ]
    }
   ],
   "source": [
    "clf = DecisionTreeClassifier(random_state=0)\n",
    "iris = load_iris()\n",
    "\n",
    "\n",
    "print(\"Old:\", num_cross_val_score)\n",
    "print(\"New:\", cross_val_score(clf, X_train_ohe, y_train, cv=5))\n"
   ]
  },
  {
   "cell_type": "code",
   "execution_count": 169,
   "metadata": {},
   "outputs": [],
   "source": [
    "clf_model= clf.fit(X_train_ohe, y_train, sample_weight=None, check_input=True, X_idx_sorted='deprecated')"
   ]
  },
  {
   "cell_type": "code",
   "execution_count": 172,
   "metadata": {},
   "outputs": [
    {
     "data": {
      "text/plain": [
       "array([[0., 1.],\n",
       "       [1., 0.],\n",
       "       [1., 0.],\n",
       "       ...,\n",
       "       [1., 0.],\n",
       "       [1., 0.],\n",
       "       [0., 1.]])"
      ]
     },
     "execution_count": 172,
     "metadata": {},
     "output_type": "execute_result"
    }
   ],
   "source": [
    "clf.predict_proba(X_train_ohe, check_input=True)"
   ]
  },
  {
   "cell_type": "code",
   "execution_count": 173,
   "metadata": {},
   "outputs": [
    {
     "data": {
      "text/plain": [
       "1.0"
      ]
     },
     "execution_count": 173,
     "metadata": {},
     "output_type": "execute_result"
    }
   ],
   "source": [
    "clf.score(X_train_ohe, y_train, sample_weight=None)"
   ]
  },
  {
   "cell_type": "markdown",
   "metadata": {},
   "source": [
    "The DecisionTreeRegressor Model provided an accuracy score of about 55%. This is about 1% less from the original model but better then the model that included the categoricals."
   ]
  },
  {
   "cell_type": "markdown",
   "metadata": {},
   "source": [
    "## Conclusion\n",
    "\n",
    "In conclusion, the best features for predicting a crash in Chicargo, IL were the numerical features. The features such as speed limit and time of day, had an accurancy of about 57% . Categorical features could predict a crash more then half the time but it is still less then that of the numerical features, categorical features can predict the crashes about 54% of the time. Furthermore, The  DecisionTreeRegressor model was a better indicator then the logistical model that included the categoricals but it was still about 1% less then the original logistical model that only included that numerical model. "
   ]
  },
  {
   "cell_type": "code",
   "execution_count": null,
   "metadata": {},
   "outputs": [],
   "source": []
  }
 ],
 "metadata": {
  "kernelspec": {
   "display_name": "Python 3",
   "language": "python",
   "name": "python3"
  },
  "language_info": {
   "codemirror_mode": {
    "name": "ipython",
    "version": 3
   },
   "file_extension": ".py",
   "mimetype": "text/x-python",
   "name": "python",
   "nbconvert_exporter": "python",
   "pygments_lexer": "ipython3",
   "version": "3.8.8"
  }
 },
 "nbformat": 4,
 "nbformat_minor": 4
}
